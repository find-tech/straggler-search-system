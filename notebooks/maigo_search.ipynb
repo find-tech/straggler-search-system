{
 "cells": [
  {
   "cell_type": "markdown",
   "metadata": {},
   "source": [
    "# MaigoSearch"
   ]
  },
  {
   "cell_type": "code",
   "execution_count": null,
   "metadata": {
    "scrolled": true
   },
   "outputs": [],
   "source": [
    "import csv\n",
    "import datetime\n",
    "import os\n",
    "import pathlib\n",
    "import sys\n",
    "\n",
    "from PIL import Image\n",
    "import cv2\n",
    "import matplotlib.pyplot as plt\n",
    "\n",
    "import numpy as np\n",
    "import pandas as pd\n",
    "import tensorflow as tf\n",
    "\n",
    "from scipy import misc\n",
    "\n",
    "from sklearn.metrics.pairwise import cosine_similarity\n",
    "from sklearn.metrics.pairwise import euclidean_distances\n",
    "\n",
    "sys.path.append('\\\\Users\\\\taro\\\\Documents\\\\straggler-search-system\\\\src')\n",
    "#sys.path.append('\\\\Users\\\\User\\\\Documents\\\\University\\\\DL\\\\DLBasic\\\\Project\\\\src')\n",
    "\n",
    "from facenet.src import facenet\n",
    "from facenet.src.align import detect_face\n",
    "\n",
    "from models import FaceNetModel\n",
    "from utils import *\n",
    "from preprocess import align\n",
    "from camera import Camera\n",
    "from database import MaigoDataBase"
   ]
  },
  {
   "cell_type": "code",
   "execution_count": null,
   "metadata": {},
   "outputs": [],
   "source": [
    "main_path = pathlib.Path().cwd().parent\n",
    "model_path = main_path / 'models' / '20180402-114759' / '20180402-114759.pb'\n",
    "maigo_db_path = main_path / 'src' / 'configs' / 'maigo_db.csv'\n",
    "camera_configs_path = main_path / 'src' / 'configs' / 'camera_configs.csv'\n",
    "img_extention = 'jpg'"
   ]
  },
  {
   "cell_type": "code",
   "execution_count": null,
   "metadata": {},
   "outputs": [],
   "source": [
    "class MaigoSearchEngine(object):\n",
    "    \"\"\"Search engine for Maingos.\n",
    "\n",
    "    Args:\n",
    "        model_path (str or pathlib.Path): Path to pretrained model.\n",
    "        camera_condigs_path (str or pathlib.Path): Path to list of configs for cameras.\n",
    "        threshold (float): Threshold to determine 2 images are similar or not. If the distance is less than this threshold, the images are thought to be similar.\n",
    "\n",
    "    Attributes:\n",
    "        model (FaceNetModel): FaceNet model.\n",
    "        db_lostones (FaceImageDataBase): Database for lost people.\n",
    "        cameras (list[Camera]): Cameras.\n",
    "        threshold (float): Threshold to determine 2 images are similar or not. If the distance is less than this threshold, the images are thought to be similar.\n",
    "    \"\"\"\n",
    "    def __init__(self, model_path, threshold=1.1):\n",
    "        self.model = FaceNetModel(str(model_path))\n",
    "        self.maigo_db = MaigoDataBase()\n",
    "        self.cameras = []\n",
    "        self.threshold = threshold\n",
    "\n",
    "    def build_maigo_db(self, db_path):\n",
    "        %debug\n",
    "        self.maigo_db.load(maigo_db_path)\n",
    "        for maigo in self.maigo_db.people:\n",
    "            image, extracted_filepath = align([maigo['image_path']], image_size=self.model.input_image_size, margin=44, gpu_memory_fraction=1.0)\n",
    "            if len(image) == 0:\n",
    "                raise ValueError(\"Image is too small: {}\".format(maigo['image_path']))\n",
    "            feature = self.model(image[0])\n",
    "            maigo['feature']= feature\n",
    "    \n",
    "    def build_cameras(self, camera_configs_path):\n",
    "        \"\"\"Build cameras from config file.\n",
    "\n",
    "        Args:\n",
    "            camera_condigs_path (str or pathlib.Path): Path to list of configs for cameras.\n",
    "        \"\"\"\n",
    "        configs = pd.read_csv(str(camera_configs_path))\n",
    "        for i in range(len(configs)):\n",
    "            config = configs.loc[i, :]\n",
    "            name = str(config.name)\n",
    "            device = int(config.device)\n",
    "            latitude = config.latitude\n",
    "            longtitude = config.longtitude\n",
    "            pos = (latitude, longtitude)\n",
    "            storage_path = config.storage_path\n",
    "            camera = Camera(name, device, pos, storage_path, '../models/haarcascade_frontalface_default.xml', 'jpg')\n",
    "            self.cameras.append(camera)\n",
    "        return\n",
    "\n",
    "    def search(self, query_vec, vectors, n=10,):\n",
    "        \"\"\"Search most similar vector from vectors to query_vec.\n",
    "\n",
    "        Args:\n",
    "            query_vec (numpy.ndarray): Query vector.\n",
    "            vectors (numpy.ndarray): Searched vectors.\n",
    "            n (int): Number of retrieved vectors.\n",
    "\n",
    "        Returns:\n",
    "            cands (list[dict]): Found ones.\n",
    "        \"\"\"\n",
    "        scores = euclidean_distances(query_vec[np.newaxis, :], vectors)[0]\n",
    "        indices = np.argsort(scores)[:n]\n",
    "        scores = scores[indices]\n",
    "        cands = []\n",
    "        for idx in indices:\n",
    "            score = scores[idx]\n",
    "            if score < self.threshold:\n",
    "                cand = {\n",
    "                    'score': score,\n",
    "                    'index': idx,\n",
    "                    }\n",
    "                cands.append(cand)\n",
    "            else:\n",
    "                break\n",
    "        return cands\n",
    "\n",
    "    def run(self):\n",
    "        results = []\n",
    "        for camera in self.cameras:\n",
    "            camera.shoot_dummy()\n",
    "            #camera.start()\n",
    "            #camera.shoot()\n",
    "            #camera.stop()\n",
    "            camera.data.save()  # if save, images are removed.\n",
    "            features = []\n",
    "            del_indices = []\n",
    "            for i, face in enumerate(camera.data.faces):\n",
    "                image, _ = align([str(face['path'])])\n",
    "                if len(image) == 0:\n",
    "                    del_indices.append(i)\n",
    "                    continue\n",
    "                image = image[0]\n",
    "                features.append(self.model(image))\n",
    "            for idx in del_indices[::-1]:\n",
    "                del camera.data.faces[idx]\n",
    "            camera.data.features = np.array(features)\n",
    "            for maigo in self.maigo_db.people:\n",
    "                found_ones = self.search(maigo['feature'], camera.data.features, n=10,)\n",
    "                if found_ones:\n",
    "                    for person in found_ones:\n",
    "                        person.update(camera.data.faces[person['index']])\n",
    "                        person['image'] = cv2.cvtColor(cv2.imread(str(person['path'])), cv2.COLOR_BGR2RGB)\n",
    "                    # if camera.save, load images.\n",
    "                    \n",
    "                    result = {\n",
    "                        'maigo': maigo,\n",
    "                        'camera_id': camera.name,\n",
    "                        'datetime': camera.data.date,\n",
    "                        'found_people': found_ones,\n",
    "                        'shot_image': cv2.cvtColor(cv2.imread(str(camera.data.image_path)), cv2.COLOR_BGR2RGB),\n",
    "                        }\n",
    "                    results.append(result)\n",
    "            # camera.data.reset()\n",
    "        if results:\n",
    "            self.alert(results)\n",
    "        return results\n",
    "    \n",
    "    def alert(self, results):\n",
    "        print(results)\n",
    "        pass"
   ]
  },
  {
   "cell_type": "code",
   "execution_count": null,
   "metadata": {},
   "outputs": [],
   "source": []
  },
  {
   "cell_type": "code",
   "execution_count": null,
   "metadata": {},
   "outputs": [],
   "source": []
  },
  {
   "cell_type": "code",
   "execution_count": null,
   "metadata": {
    "scrolled": true
   },
   "outputs": [],
   "source": [
    "engine = MaigoSearchEngine(model_path, threshold=0.85)"
   ]
  },
  {
   "cell_type": "code",
   "execution_count": null,
   "metadata": {
    "scrolled": true
   },
   "outputs": [],
   "source": [
    "engine.build_maigo_db(maigo_db_path)"
   ]
  },
  {
   "cell_type": "code",
   "execution_count": null,
   "metadata": {},
   "outputs": [],
   "source": [
    "engine.build_cameras(camera_configs_path)"
   ]
  },
  {
   "cell_type": "code",
   "execution_count": null,
   "metadata": {},
   "outputs": [],
   "source": [
    "engine.cameras[1].name"
   ]
  },
  {
   "cell_type": "code",
   "execution_count": null,
   "metadata": {
    "scrolled": true
   },
   "outputs": [],
   "source": [
    "engine.maigo_db.people[0]"
   ]
  },
  {
   "cell_type": "code",
   "execution_count": null,
   "metadata": {},
   "outputs": [],
   "source": [
    "engine.run()"
   ]
  },
  {
   "cell_type": "code",
   "execution_count": null,
   "metadata": {},
   "outputs": [],
   "source": []
  },
  {
   "cell_type": "code",
   "execution_count": null,
   "metadata": {},
   "outputs": [],
   "source": []
  }
 ],
 "metadata": {
  "kernelspec": {
   "display_name": "Python 3",
   "language": "python",
   "name": "python3"
  },
  "language_info": {
   "codemirror_mode": {
    "name": "ipython",
    "version": 3
   },
   "file_extension": ".py",
   "mimetype": "text/x-python",
   "name": "python",
   "nbconvert_exporter": "python",
   "pygments_lexer": "ipython3",
   "version": "3.7.2"
  }
 },
 "nbformat": 4,
 "nbformat_minor": 2
}
