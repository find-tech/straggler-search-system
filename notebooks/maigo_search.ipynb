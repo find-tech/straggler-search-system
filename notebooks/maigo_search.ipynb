{
 "cells": [
  {
   "cell_type": "markdown",
   "metadata": {},
   "source": [
    "# MaigoSearch\n",
    "## 準備\n",
    "- data/maigo_search フォルダと、modelsフォルダは、Google Driveからデータをコピーしてくる。\n",
    "- models/haarcascade_frontalface_default.xml もGoogle Driveから入手。\n",
    "\n",
    "## 実行環境構築\n",
    "- Anaconda Promptで、以下を実行する\n",
    "- 下記はmaigo_envという仮想環境を作成する例\n",
    "- #! はつけないで実行すること"
   ]
  },
  {
   "cell_type": "code",
   "execution_count": null,
   "metadata": {},
   "outputs": [],
   "source": [
    "#! conda create -n maigo_env python=3.6\n",
    "#! conda activate maigo_env\n",
    "#! conda install pillow opencv matplotlib pandas\n",
    "#! conda install tensorflow\n",
    "#! conda install scikit-learn iso8601\n",
    "#! pip install folium"
   ]
  },
  {
   "cell_type": "markdown",
   "metadata": {},
   "source": [
    "# 実行\n",
    "- 基本的には、Anaconda Promptで、下記 *.py ファイルを実行すればよい\n",
    "- 開発には、Visual Studio Code を使うとステップ実行やコードの候補表示が出て便利です。"
   ]
  },
  {
   "cell_type": "code",
   "execution_count": null,
   "metadata": {},
   "outputs": [],
   "source": [
    "# 1.一通り実行する (jupyterからだと異常に時間がかかる？ので、Anaconda Promptから実行してください)\n",
    "# 下記の、2.と3.を同時に実行します (これだけ動かせばよい)\n",
    "#!python ../src/maigo_search.py"
   ]
  },
  {
   "cell_type": "code",
   "execution_count": null,
   "metadata": {
    "scrolled": false
   },
   "outputs": [],
   "source": [
    "# 2.結果の保存まで実行する (なぜか表示はできないので別にする)\n",
    "import os\n",
    "import pathlib\n",
    "import sys\n",
    "\n",
    "sss_path = os.path.abspath(os.path.join(os.path.curdir, os.pardir)) # straggler-search-system\n",
    "sys.path.append(sss_path + '/src')\n",
    "\n",
    "from maigo_search import MaigoSearchEngine\n",
    "from show_result import ResultViewer\n",
    "\n",
    "main_path = pathlib.Path().cwd().parent\n",
    "model_path = main_path / 'models' / '20180402-114759' / '20180402-114759.pb'\n",
    "maigo_db_path = main_path / 'configs' / 'maigo_db.csv'\n",
    "camera_configs_path = main_path / 'configs' / 'camera_configs.csv'\n",
    "img_extention = 'jpg'\n",
    "\n",
    "engine = MaigoSearchEngine(model_path, threshold=99)\n",
    "engine.build_maigo_db(maigo_db_path)\n",
    "engine.build_cameras(camera_configs_path)"
   ]
  },
  {
   "cell_type": "code",
   "execution_count": null,
   "metadata": {},
   "outputs": [],
   "source": [
    "results = engine.run()\n",
    "rv =ResultViewer(results)\n",
    "rv.save_result()"
   ]
  },
  {
   "cell_type": "code",
   "execution_count": null,
   "metadata": {},
   "outputs": [],
   "source": [
    "# 3.保存された結果を表示する (ウィンドウを閉じたら終了)\n",
    "!python ../src/show_result.py"
   ]
  },
  {
   "cell_type": "code",
   "execution_count": null,
   "metadata": {},
   "outputs": [],
   "source": [
    "# 4.Webカメラの画像を表示する (開始までしばらくかかります。5秒程度で自動的に終了)\n",
    "# !python ../src/camera.py"
   ]
  },
  {
   "cell_type": "code",
   "execution_count": null,
   "metadata": {},
   "outputs": [],
   "source": [
    "# 5.地図を表示 (実行部分は未実装)\n",
    "#!python ../src/util.py"
   ]
  }
 ],
 "metadata": {
  "kernelspec": {
   "display_name": "Python 3",
   "language": "python",
   "name": "python3"
  },
  "language_info": {
   "codemirror_mode": {
    "name": "ipython",
    "version": 3
   },
   "file_extension": ".py",
   "mimetype": "text/x-python",
   "name": "python",
   "nbconvert_exporter": "python",
   "pygments_lexer": "ipython3",
   "version": "3.6.8"
  }
 },
 "nbformat": 4,
 "nbformat_minor": 2
}
