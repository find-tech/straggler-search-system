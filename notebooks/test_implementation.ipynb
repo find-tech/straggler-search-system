{
 "cells": [
  {
   "cell_type": "markdown",
   "metadata": {
    "colab_type": "text",
    "id": "NOcxKqnb_nJy"
   },
   "source": [
    "# Test FaceNet"
   ]
  },
  {
   "cell_type": "code",
   "execution_count": null,
   "metadata": {
    "colab": {
     "base_uri": "https://localhost:8080/",
     "height": 51
    },
    "colab_type": "code",
    "executionInfo": {
     "elapsed": 1458,
     "status": "ok",
     "timestamp": 1552118904913,
     "user": {
      "displayName": "中仙道太郎",
      "photoUrl": "https://lh3.googleusercontent.com/-XBSkSo_dnEQ/AAAAAAAAAAI/AAAAAAAAAEQ/dx_nfdPysHc/s64/photo.jpg",
      "userId": "01119554381605251217"
     },
     "user_tz": -540
    },
    "id": "AaBp68dD_5YC",
    "outputId": "a0054a13-2894-4707-e595-e6ad1fd4c6e6"
   },
   "outputs": [],
   "source": [
    "#cd /content/drive/My\\ Drive/University/Course/DL/DLBasic/Project/src"
   ]
  },
  {
   "cell_type": "code",
   "execution_count": null,
   "metadata": {
    "colab": {
     "base_uri": "https://localhost:8080/",
     "height": 34
    },
    "colab_type": "code",
    "executionInfo": {
     "elapsed": 2899,
     "status": "ok",
     "timestamp": 1552118924821,
     "user": {
      "displayName": "中仙道太郎",
      "photoUrl": "https://lh3.googleusercontent.com/-XBSkSo_dnEQ/AAAAAAAAAAI/AAAAAAAAAEQ/dx_nfdPysHc/s64/photo.jpg",
      "userId": "01119554381605251217"
     },
     "user_tz": -540
    },
    "id": "oRXK41PT_5zF",
    "outputId": "c5504ca8-8646-4965-d409-23c34f8ba61c"
   },
   "outputs": [],
   "source": [
    "#!ls\n",
    "!dir # for windows"
   ]
  },
  {
   "cell_type": "code",
   "execution_count": null,
   "metadata": {
    "colab": {},
    "colab_type": "code",
    "id": "WFjZB1f2E9ng"
   },
   "outputs": [],
   "source": [
    "import sys\n",
    "import os\n",
    "main_path = os.path.abspath(os.path.join(os.path.curdir, os.pardir)) # straggler-search-system\n",
    "sys.path.append(main_path + '/src')"
   ]
  },
  {
   "cell_type": "markdown",
   "metadata": {
    "colab_type": "text",
    "id": "ig4B5zL4fyCG"
   },
   "source": []
  },
  {
   "cell_type": "code",
   "execution_count": null,
   "metadata": {
    "colab": {
     "base_uri": "https://localhost:8080/",
     "height": 372
    },
    "colab_type": "code",
    "executionInfo": {
     "elapsed": 2555,
     "status": "error",
     "timestamp": 1552122775328,
     "user": {
      "displayName": "中仙道太郎",
      "photoUrl": "https://lh3.googleusercontent.com/-XBSkSo_dnEQ/AAAAAAAAAAI/AAAAAAAAAEQ/dx_nfdPysHc/s64/photo.jpg",
      "userId": "01119554381605251217"
     },
     "user_tz": -540
    },
    "id": "F-WwZ1xt_nKE",
    "outputId": "66670d08-5922-4841-ac5b-f0693f6eacd1",
    "scrolled": false
   },
   "outputs": [],
   "source": [
    "import pathlib\n",
    "\n",
    "from PIL import Image\n",
    "import matplotlib.pyplot as plt\n",
    "import numpy as np\n",
    "import tensorflow as tf\n",
    "\n",
    "from scipy import misc\n",
    "\n",
    "from sklearn.decomposition import PCA\n",
    "from sklearn.cluster import KMeans\n",
    "from sklearn.metrics.pairwise import cosine_similarity\n",
    "from sklearn.metrics.pairwise import euclidean_distances\n",
    "\n",
    "\n",
    "from utils import *\n",
    "from facenet.src import facenet\n",
    "from facenet.src.align import detect_face"
   ]
  },
  {
   "cell_type": "code",
   "execution_count": null,
   "metadata": {
    "colab": {},
    "colab_type": "code",
    "id": "je4VJSOo_nK4"
   },
   "outputs": [],
   "source": [
    "main_path = pathlib.Path(main_path)\n",
    "model_path = main_path / 'models' / '20180402-114759' / '20180402-114759.pb'\n",
    "img_extention = 'jpg'"
   ]
  },
  {
   "cell_type": "code",
   "execution_count": null,
   "metadata": {
    "colab": {},
    "colab_type": "code",
    "id": "78ShfWL6_nK_"
   },
   "outputs": [],
   "source": [
    "model = FaceNetModel(str(model_path))"
   ]
  },
  {
   "cell_type": "code",
   "execution_count": null,
   "metadata": {
    "colab": {},
    "colab_type": "code",
    "id": "3N4w1pEy_nLb"
   },
   "outputs": [],
   "source": [
    "img_dir_path_base = main_path / 'data' / 'external' / 'downloads'\n",
    "feature_path = main_path / 'data' / 'processed' / 'fvecs_facenet_.npy'\n",
    "label_list = ['齋藤飛鳥', '平手友梨奈', '吉沢亮']"
   ]
  },
  {
   "cell_type": "code",
   "execution_count": null,
   "metadata": {
    "colab": {},
    "colab_type": "code",
    "id": "3Rz4k824_nLm"
   },
   "outputs": [],
   "source": [
    "image_paths = list((img_dir_path_base / '齋藤飛鳥').glob('*.jpg'))[:2]\n",
    "images, extracted_filepaths = align(image_paths, image_size=160, margin=44, gpu_memory_fraction=1.0)\n",
    "print(len(images), len(extracted_filepaths))\n",
    "plt.imshow(FaceNetModel.load_image(image_paths[0]))\n",
    "plt.show()\n",
    "plt.imshow(images[0])\n",
    "plt.show()"
   ]
  },
  {
   "cell_type": "code",
   "execution_count": null,
   "metadata": {
    "colab": {},
    "colab_type": "code",
    "id": "ZlCUEIPN_nLy"
   },
   "outputs": [],
   "source": [
    "image_paths = []\n",
    "labels = []\n",
    "for label in label_list:\n",
    "    print('Label: {}'.format(label))\n",
    "    img_dir_path = img_dir_path_base / label\n",
    "    for i, img_path in enumerate(img_dir_path.glob('*.{}'.format(img_extention))):\n",
    "        # print('\\r' + 'Image: {}\\t({})\\t\\t'.format(i+1, img_path), end='')\n",
    "        # storage.add(img_path, label)\n",
    "        image_paths.append(img_path)\n",
    "        labels.append(label)\n",
    "    print()"
   ]
  },
  {
   "cell_type": "code",
   "execution_count": null,
   "metadata": {
    "colab": {},
    "colab_type": "code",
    "id": "bJoxp2z-_nMG"
   },
   "outputs": [],
   "source": [
    "storage = ImageStorage(model)"
   ]
  },
  {
   "cell_type": "code",
   "execution_count": null,
   "metadata": {
    "colab": {},
    "colab_type": "code",
    "id": "k4qGv8Er_nMR",
    "scrolled": false
   },
   "outputs": [],
   "source": [
    "storage.add_all(image_paths[:], labels[:])"
   ]
  },
  {
   "cell_type": "code",
   "execution_count": null,
   "metadata": {
    "colab": {},
    "colab_type": "code",
    "id": "gBhweVL7_nMo"
   },
   "outputs": [],
   "source": [
    "storage.save(feature_path, only_feature=True)"
   ]
  },
  {
   "cell_type": "code",
   "execution_count": null,
   "metadata": {
    "colab": {},
    "colab_type": "code",
    "id": "Nfclxb6o_nMx"
   },
   "outputs": [],
   "source": [
    "feature = storage.features[0]\n",
    "print('Shape: ', feature.shape)\n",
    "print('Type: ', type(feature))\n",
    "# print(feature)"
   ]
  },
  {
   "cell_type": "code",
   "execution_count": null,
   "metadata": {
    "colab": {},
    "colab_type": "code",
    "id": "6uJ2ZwSH_nNM",
    "scrolled": false
   },
   "outputs": [],
   "source": [
    "storage.compare(0, 1)"
   ]
  },
  {
   "cell_type": "code",
   "execution_count": null,
   "metadata": {
    "colab": {},
    "colab_type": "code",
    "id": "gCUg6Nef_nNk"
   },
   "outputs": [],
   "source": [
    "reduced = reduce_dim(np.array(storage.features), n_components=2)\n",
    "print(reduced.size)"
   ]
  },
  {
   "cell_type": "code",
   "execution_count": null,
   "metadata": {
    "colab": {},
    "colab_type": "code",
    "id": "BGhxiNu8_nN5"
   },
   "outputs": [],
   "source": [
    "clustered_labels = cluster_kmeans(reduced, storage.labels, n_clusters=3)"
   ]
  }
 ],
 "metadata": {
  "accelerator": "GPU",
  "colab": {
   "collapsed_sections": [],
   "name": "test_implementation.ipynb",
   "provenance": [],
   "version": "0.3.2"
  },
  "kernelspec": {
   "display_name": "Python 3",
   "language": "python",
   "name": "python3"
  },
  "language_info": {
   "codemirror_mode": {
    "name": "ipython",
    "version": 3
   },
   "file_extension": ".py",
   "mimetype": "text/x-python",
   "name": "python",
   "nbconvert_exporter": "python",
   "pygments_lexer": "ipython3",
   "version": "3.7.2"
  }
 },
 "nbformat": 4,
 "nbformat_minor": 1
}
