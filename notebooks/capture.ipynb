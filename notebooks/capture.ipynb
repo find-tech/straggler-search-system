{
 "cells": [
  {
   "cell_type": "markdown",
   "metadata": {},
   "source": [
    "# 説明\n",
    "- Webカメラで映像を撮影し、顔を検出して青い枠で囲みます。顔は複数同時に検出できます。キャプチャ画面で[Esc]キーを押すと終了します。"
   ]
  },
  {
   "cell_type": "markdown",
   "metadata": {},
   "source": [
    "# 準備\n",
    "- Webカメラ\n",
    "- OpenCVのインストール\n",
    " - !conda install opencv -c conda-forge\n",
    "- カスケードファイル(haarcascade_frontalface_default.xml)をmodelsディレクトリにダウンロードする。(以下のコメントアウトを外して１回だけ実行)"
   ]
  },
  {
   "cell_type": "code",
   "execution_count": null,
   "metadata": {},
   "outputs": [],
   "source": [
    "#!curl -o ../models/haarcascade_frontalface_default.xml https://raw.githubusercontent.com/opencv/opencv/master/data/haarcascades/haarcascade_frontalface_default.xml"
   ]
  },
  {
   "cell_type": "markdown",
   "metadata": {},
   "source": [
    "# 画像キャプチャループ関数を定義"
   ]
  },
  {
   "cell_type": "code",
   "execution_count": null,
   "metadata": {},
   "outputs": [],
   "source": [
    "import cv2\n",
    "def capture_camera(mirror=True, size=None):\n",
    "    \"\"\"Capture video from camera\"\"\"\n",
    "\n",
    "    # カメラをキャプチャする\n",
    "    cap = cv2.VideoCapture(0) # 0はカメラのデバイス番号\n",
    "\n",
    "    while True:\n",
    "        \n",
    "        # Webカメラから画像を1枚読み込む\n",
    "        _, frame = cap.read()\n",
    "\n",
    "        # 鏡のように映るか否か\n",
    "        if mirror:\n",
    "            frame = frame[:,::-1]\n",
    "\n",
    "        # フレームをリサイズ\n",
    "        # sizeは例えば(800, 600)\n",
    "        if size is not None and len(size) == 2:\n",
    "            frame = cv2.resize(frame, size)\n",
    "        \n",
    "        # グレースケールに変換\n",
    "        gray = cv2.cvtColor(frame, cv2.COLOR_BGR2GRAY)\n",
    "\n",
    "        # 顔検出用カスケードファイルの読み込み\n",
    "        face_cascade = cv2.CascadeClassifier('../models/haarcascade_frontalface_default.xml')\n",
    "\n",
    "        # カスケードファイルで複数の顔を検出\n",
    "        faces = face_cascade.detectMultiScale(gray)\n",
    "\n",
    "        # 顔の周りの余白\n",
    "        m = 80\n",
    "        \n",
    "        for (x,y,w,h) in faces:\n",
    "\n",
    "            # 切り取った画像を取得\n",
    "            rgb_image = cv2.cvtColor(frame, cv2.COLOR_BGR2RGB)\n",
    "            cropped_image = rgb_image[y-m:y+h+m,x-m:x+w+m,:]\n",
    "            \n",
    "            # ここでEmbeddingする\n",
    "            # ...\n",
    "\n",
    "            #顔部分を四角で囲う\n",
    "            frame = cv2.rectangle(frame,(x-m,y-m),(x+w+m,y+h+m),(255,0,0),2)\n",
    "        \n",
    "        # 画面を表示する\n",
    "        cv2.imshow('camera capture', frame)       \n",
    "\n",
    "        k = cv2.waitKey(10) # 10 msec待つ\n",
    "        if k == 27: # ESCキーで終了\n",
    "            break\n",
    "\n",
    "    # キャプチャを解放する\n",
    "    cap.release()\n",
    "    cv2.destroyAllWindows()"
   ]
  },
  {
   "cell_type": "markdown",
   "metadata": {},
   "source": [
    "# 実行開始！"
   ]
  },
  {
   "cell_type": "code",
   "execution_count": null,
   "metadata": {},
   "outputs": [],
   "source": [
    "# capture_camera()\n",
    "capture_camera(True, (800,600)) # サイズを指定しないとエラーになる環境がある"
   ]
  },
  {
   "cell_type": "markdown",
   "metadata": {},
   "source": [
    "# 制限\n",
    "- 顔の検出精度が低い\n",
    "- 10秒に1回のみEmbeddingするようなコードを入れる"
   ]
  }
 ],
 "metadata": {
  "kernelspec": {
   "display_name": "Python 3",
   "language": "python",
   "name": "python3"
  },
  "language_info": {
   "codemirror_mode": {
    "name": "ipython",
    "version": 3
   },
   "file_extension": ".py",
   "mimetype": "text/x-python",
   "name": "python",
   "nbconvert_exporter": "python",
   "pygments_lexer": "ipython3",
   "version": "3.7.1"
  }
 },
 "nbformat": 4,
 "nbformat_minor": 2
}
